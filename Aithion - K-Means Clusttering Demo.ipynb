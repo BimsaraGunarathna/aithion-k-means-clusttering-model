{
 "cells": [
  {
   "cell_type": "code",
   "execution_count": 30,
   "metadata": {},
   "outputs": [],
   "source": [
    "#import libraries\n",
    "import pandas as pd\n",
    "import numpy as np\n",
    "import random as rd\n",
    "import matplotlib.pyplot as plt\n",
    "%matplotlib inline\n",
    "from sklearn.cluster import KMeans"
   ]
  },
  {
   "cell_type": "code",
   "execution_count": 31,
   "metadata": {},
   "outputs": [],
   "source": [
    "data=pd.read_csv(\"data.csv\")"
   ]
  },
  {
   "cell_type": "code",
   "execution_count": 32,
   "metadata": {},
   "outputs": [],
   "source": [
    "data[\"id\"] = data.index + 1\n",
    "#index+1- id column"
   ]
  },
  {
   "cell_type": "code",
   "execution_count": 33,
   "metadata": {},
   "outputs": [],
   "source": [
    "del data[\"country\"]"
   ]
  },
  {
   "cell_type": "code",
   "execution_count": 34,
   "metadata": {},
   "outputs": [
    {
     "data": {
      "text/html": [
       "<div>\n",
       "<style scoped>\n",
       "    .dataframe tbody tr th:only-of-type {\n",
       "        vertical-align: middle;\n",
       "    }\n",
       "\n",
       "    .dataframe tbody tr th {\n",
       "        vertical-align: top;\n",
       "    }\n",
       "\n",
       "    .dataframe thead th {\n",
       "        text-align: right;\n",
       "    }\n",
       "</style>\n",
       "<table border=\"1\" class=\"dataframe\">\n",
       "  <thead>\n",
       "    <tr style=\"text-align: right;\">\n",
       "      <th></th>\n",
       "      <th>imports</th>\n",
       "      <th>exports</th>\n",
       "      <th>income</th>\n",
       "      <th>gdppc</th>\n",
       "      <th>inflation</th>\n",
       "      <th>health</th>\n",
       "      <th>child_mortality</th>\n",
       "      <th>total_fertility_rate</th>\n",
       "      <th>life_expectancy</th>\n",
       "      <th>id</th>\n",
       "    </tr>\n",
       "  </thead>\n",
       "  <tbody>\n",
       "    <tr>\n",
       "      <th>0</th>\n",
       "      <td>44.9</td>\n",
       "      <td>10.0</td>\n",
       "      <td>1610</td>\n",
       "      <td>553</td>\n",
       "      <td>9.44</td>\n",
       "      <td>7.58</td>\n",
       "      <td>90.2</td>\n",
       "      <td>5.82</td>\n",
       "      <td>56.2</td>\n",
       "      <td>1</td>\n",
       "    </tr>\n",
       "    <tr>\n",
       "      <th>1</th>\n",
       "      <td>48.6</td>\n",
       "      <td>28.0</td>\n",
       "      <td>9930</td>\n",
       "      <td>4090</td>\n",
       "      <td>4.49</td>\n",
       "      <td>6.55</td>\n",
       "      <td>16.6</td>\n",
       "      <td>1.65</td>\n",
       "      <td>76.3</td>\n",
       "      <td>2</td>\n",
       "    </tr>\n",
       "    <tr>\n",
       "      <th>2</th>\n",
       "      <td>31.4</td>\n",
       "      <td>38.4</td>\n",
       "      <td>12900</td>\n",
       "      <td>4460</td>\n",
       "      <td>16.10</td>\n",
       "      <td>4.17</td>\n",
       "      <td>27.3</td>\n",
       "      <td>2.89</td>\n",
       "      <td>76.5</td>\n",
       "      <td>3</td>\n",
       "    </tr>\n",
       "    <tr>\n",
       "      <th>3</th>\n",
       "      <td>42.9</td>\n",
       "      <td>62.3</td>\n",
       "      <td>5900</td>\n",
       "      <td>3530</td>\n",
       "      <td>22.40</td>\n",
       "      <td>2.85</td>\n",
       "      <td>119.0</td>\n",
       "      <td>6.16</td>\n",
       "      <td>60.1</td>\n",
       "      <td>4</td>\n",
       "    </tr>\n",
       "    <tr>\n",
       "      <th>4</th>\n",
       "      <td>58.9</td>\n",
       "      <td>45.5</td>\n",
       "      <td>19100</td>\n",
       "      <td>12200</td>\n",
       "      <td>1.44</td>\n",
       "      <td>6.03</td>\n",
       "      <td>10.3</td>\n",
       "      <td>2.13</td>\n",
       "      <td>76.8</td>\n",
       "      <td>5</td>\n",
       "    </tr>\n",
       "  </tbody>\n",
       "</table>\n",
       "</div>"
      ],
      "text/plain": [
       "   imports  exports  income  gdppc  inflation  health  child_mortality  \\\n",
       "0     44.9     10.0    1610    553       9.44    7.58             90.2   \n",
       "1     48.6     28.0    9930   4090       4.49    6.55             16.6   \n",
       "2     31.4     38.4   12900   4460      16.10    4.17             27.3   \n",
       "3     42.9     62.3    5900   3530      22.40    2.85            119.0   \n",
       "4     58.9     45.5   19100  12200       1.44    6.03             10.3   \n",
       "\n",
       "   total_fertility_rate  life_expectancy  id  \n",
       "0                  5.82             56.2   1  \n",
       "1                  1.65             76.3   2  \n",
       "2                  2.89             76.5   3  \n",
       "3                  6.16             60.1   4  \n",
       "4                  2.13             76.8   5  "
      ]
     },
     "execution_count": 34,
     "metadata": {},
     "output_type": "execute_result"
    }
   ],
   "source": [
    "data.head()"
   ]
  },
  {
   "cell_type": "code",
   "execution_count": 35,
   "metadata": {},
   "outputs": [
    {
     "data": {
      "text/html": [
       "<div>\n",
       "<style scoped>\n",
       "    .dataframe tbody tr th:only-of-type {\n",
       "        vertical-align: middle;\n",
       "    }\n",
       "\n",
       "    .dataframe tbody tr th {\n",
       "        vertical-align: top;\n",
       "    }\n",
       "\n",
       "    .dataframe thead th {\n",
       "        text-align: right;\n",
       "    }\n",
       "</style>\n",
       "<table border=\"1\" class=\"dataframe\">\n",
       "  <thead>\n",
       "    <tr style=\"text-align: right;\">\n",
       "      <th></th>\n",
       "      <th>imports</th>\n",
       "      <th>exports</th>\n",
       "      <th>income</th>\n",
       "      <th>gdppc</th>\n",
       "      <th>inflation</th>\n",
       "      <th>health</th>\n",
       "      <th>child_mortality</th>\n",
       "      <th>total_fertility_rate</th>\n",
       "      <th>life_expectancy</th>\n",
       "      <th>id</th>\n",
       "    </tr>\n",
       "  </thead>\n",
       "  <tbody>\n",
       "    <tr>\n",
       "      <th>count</th>\n",
       "      <td>167.000000</td>\n",
       "      <td>167.000000</td>\n",
       "      <td>167.000000</td>\n",
       "      <td>167.000000</td>\n",
       "      <td>167.000000</td>\n",
       "      <td>167.000000</td>\n",
       "      <td>167.000000</td>\n",
       "      <td>167.000000</td>\n",
       "      <td>167.000000</td>\n",
       "      <td>167.00000</td>\n",
       "    </tr>\n",
       "    <tr>\n",
       "      <th>mean</th>\n",
       "      <td>46.890215</td>\n",
       "      <td>41.108976</td>\n",
       "      <td>17144.688623</td>\n",
       "      <td>12964.155689</td>\n",
       "      <td>7.781832</td>\n",
       "      <td>6.815689</td>\n",
       "      <td>38.270060</td>\n",
       "      <td>2.947964</td>\n",
       "      <td>70.555689</td>\n",
       "      <td>84.00000</td>\n",
       "    </tr>\n",
       "    <tr>\n",
       "      <th>std</th>\n",
       "      <td>24.209589</td>\n",
       "      <td>27.412010</td>\n",
       "      <td>19278.067698</td>\n",
       "      <td>18328.704809</td>\n",
       "      <td>10.570704</td>\n",
       "      <td>2.746837</td>\n",
       "      <td>40.328931</td>\n",
       "      <td>1.513848</td>\n",
       "      <td>8.893172</td>\n",
       "      <td>48.35287</td>\n",
       "    </tr>\n",
       "    <tr>\n",
       "      <th>min</th>\n",
       "      <td>0.065900</td>\n",
       "      <td>0.109000</td>\n",
       "      <td>609.000000</td>\n",
       "      <td>231.000000</td>\n",
       "      <td>-4.210000</td>\n",
       "      <td>1.810000</td>\n",
       "      <td>2.600000</td>\n",
       "      <td>1.150000</td>\n",
       "      <td>32.100000</td>\n",
       "      <td>1.00000</td>\n",
       "    </tr>\n",
       "    <tr>\n",
       "      <th>25%</th>\n",
       "      <td>30.200000</td>\n",
       "      <td>23.800000</td>\n",
       "      <td>3355.000000</td>\n",
       "      <td>1330.000000</td>\n",
       "      <td>1.810000</td>\n",
       "      <td>4.920000</td>\n",
       "      <td>8.250000</td>\n",
       "      <td>1.795000</td>\n",
       "      <td>65.300000</td>\n",
       "      <td>42.50000</td>\n",
       "    </tr>\n",
       "    <tr>\n",
       "      <th>50%</th>\n",
       "      <td>43.300000</td>\n",
       "      <td>35.000000</td>\n",
       "      <td>9960.000000</td>\n",
       "      <td>4660.000000</td>\n",
       "      <td>5.390000</td>\n",
       "      <td>6.320000</td>\n",
       "      <td>19.300000</td>\n",
       "      <td>2.410000</td>\n",
       "      <td>73.100000</td>\n",
       "      <td>84.00000</td>\n",
       "    </tr>\n",
       "    <tr>\n",
       "      <th>75%</th>\n",
       "      <td>58.750000</td>\n",
       "      <td>51.350000</td>\n",
       "      <td>22800.000000</td>\n",
       "      <td>14050.000000</td>\n",
       "      <td>10.750000</td>\n",
       "      <td>8.600000</td>\n",
       "      <td>62.100000</td>\n",
       "      <td>3.880000</td>\n",
       "      <td>76.800000</td>\n",
       "      <td>125.50000</td>\n",
       "    </tr>\n",
       "    <tr>\n",
       "      <th>max</th>\n",
       "      <td>174.000000</td>\n",
       "      <td>200.000000</td>\n",
       "      <td>125000.000000</td>\n",
       "      <td>105000.000000</td>\n",
       "      <td>104.000000</td>\n",
       "      <td>17.900000</td>\n",
       "      <td>208.000000</td>\n",
       "      <td>7.490000</td>\n",
       "      <td>82.800000</td>\n",
       "      <td>167.00000</td>\n",
       "    </tr>\n",
       "  </tbody>\n",
       "</table>\n",
       "</div>"
      ],
      "text/plain": [
       "          imports     exports         income          gdppc   inflation  \\\n",
       "count  167.000000  167.000000     167.000000     167.000000  167.000000   \n",
       "mean    46.890215   41.108976   17144.688623   12964.155689    7.781832   \n",
       "std     24.209589   27.412010   19278.067698   18328.704809   10.570704   \n",
       "min      0.065900    0.109000     609.000000     231.000000   -4.210000   \n",
       "25%     30.200000   23.800000    3355.000000    1330.000000    1.810000   \n",
       "50%     43.300000   35.000000    9960.000000    4660.000000    5.390000   \n",
       "75%     58.750000   51.350000   22800.000000   14050.000000   10.750000   \n",
       "max    174.000000  200.000000  125000.000000  105000.000000  104.000000   \n",
       "\n",
       "           health  child_mortality  total_fertility_rate  life_expectancy  \\\n",
       "count  167.000000       167.000000            167.000000       167.000000   \n",
       "mean     6.815689        38.270060              2.947964        70.555689   \n",
       "std      2.746837        40.328931              1.513848         8.893172   \n",
       "min      1.810000         2.600000              1.150000        32.100000   \n",
       "25%      4.920000         8.250000              1.795000        65.300000   \n",
       "50%      6.320000        19.300000              2.410000        73.100000   \n",
       "75%      8.600000        62.100000              3.880000        76.800000   \n",
       "max     17.900000       208.000000              7.490000        82.800000   \n",
       "\n",
       "              id  \n",
       "count  167.00000  \n",
       "mean    84.00000  \n",
       "std     48.35287  \n",
       "min      1.00000  \n",
       "25%     42.50000  \n",
       "50%     84.00000  \n",
       "75%    125.50000  \n",
       "max    167.00000  "
      ]
     },
     "execution_count": 35,
     "metadata": {},
     "output_type": "execute_result"
    }
   ],
   "source": [
    "data.describe()"
   ]
  },
  {
   "cell_type": "code",
   "execution_count": 36,
   "metadata": {},
   "outputs": [
    {
     "data": {
      "text/html": [
       "<div>\n",
       "<style scoped>\n",
       "    .dataframe tbody tr th:only-of-type {\n",
       "        vertical-align: middle;\n",
       "    }\n",
       "\n",
       "    .dataframe tbody tr th {\n",
       "        vertical-align: top;\n",
       "    }\n",
       "\n",
       "    .dataframe thead th {\n",
       "        text-align: right;\n",
       "    }\n",
       "</style>\n",
       "<table border=\"1\" class=\"dataframe\">\n",
       "  <thead>\n",
       "    <tr style=\"text-align: right;\">\n",
       "      <th></th>\n",
       "      <th>0</th>\n",
       "      <th>1</th>\n",
       "      <th>2</th>\n",
       "      <th>3</th>\n",
       "      <th>4</th>\n",
       "      <th>5</th>\n",
       "      <th>6</th>\n",
       "      <th>7</th>\n",
       "      <th>8</th>\n",
       "      <th>9</th>\n",
       "    </tr>\n",
       "  </thead>\n",
       "  <tbody>\n",
       "    <tr>\n",
       "      <th>count</th>\n",
       "      <td>1.670000e+02</td>\n",
       "      <td>1.670000e+02</td>\n",
       "      <td>1.670000e+02</td>\n",
       "      <td>1.670000e+02</td>\n",
       "      <td>1.670000e+02</td>\n",
       "      <td>1.670000e+02</td>\n",
       "      <td>1.670000e+02</td>\n",
       "      <td>1.670000e+02</td>\n",
       "      <td>1.670000e+02</td>\n",
       "      <td>1.670000e+02</td>\n",
       "    </tr>\n",
       "    <tr>\n",
       "      <th>mean</th>\n",
       "      <td>2.871954e-16</td>\n",
       "      <td>2.383323e-16</td>\n",
       "      <td>-7.512288e-17</td>\n",
       "      <td>2.127373e-17</td>\n",
       "      <td>8.376533e-17</td>\n",
       "      <td>5.218713e-16</td>\n",
       "      <td>-2.659217e-17</td>\n",
       "      <td>3.124580e-16</td>\n",
       "      <td>3.616535e-16</td>\n",
       "      <td>3.589943e-17</td>\n",
       "    </tr>\n",
       "    <tr>\n",
       "      <th>std</th>\n",
       "      <td>1.003008e+00</td>\n",
       "      <td>1.003008e+00</td>\n",
       "      <td>1.003008e+00</td>\n",
       "      <td>1.003008e+00</td>\n",
       "      <td>1.003008e+00</td>\n",
       "      <td>1.003008e+00</td>\n",
       "      <td>1.003008e+00</td>\n",
       "      <td>1.003008e+00</td>\n",
       "      <td>1.003008e+00</td>\n",
       "      <td>1.003008e+00</td>\n",
       "    </tr>\n",
       "    <tr>\n",
       "      <th>min</th>\n",
       "      <td>-1.939940e+00</td>\n",
       "      <td>-1.500192e+00</td>\n",
       "      <td>-8.603259e-01</td>\n",
       "      <td>-6.968005e-01</td>\n",
       "      <td>-1.137852e+00</td>\n",
       "      <td>-1.827827e+00</td>\n",
       "      <td>-8.871383e-01</td>\n",
       "      <td>-1.191250e+00</td>\n",
       "      <td>-4.337186e+00</td>\n",
       "      <td>-1.721710e+00</td>\n",
       "    </tr>\n",
       "    <tr>\n",
       "      <th>25%</th>\n",
       "      <td>-6.914785e-01</td>\n",
       "      <td>-6.333367e-01</td>\n",
       "      <td>-7.174558e-01</td>\n",
       "      <td>-6.366596e-01</td>\n",
       "      <td>-5.666409e-01</td>\n",
       "      <td>-6.922106e-01</td>\n",
       "      <td>-7.466190e-01</td>\n",
       "      <td>-7.639023e-01</td>\n",
       "      <td>-5.927576e-01</td>\n",
       "      <td>-8.608551e-01</td>\n",
       "    </tr>\n",
       "    <tr>\n",
       "      <th>50%</th>\n",
       "      <td>-1.487432e-01</td>\n",
       "      <td>-2.235279e-01</td>\n",
       "      <td>-3.738080e-01</td>\n",
       "      <td>-4.544309e-01</td>\n",
       "      <td>-2.269504e-01</td>\n",
       "      <td>-1.810007e-01</td>\n",
       "      <td>-4.717981e-01</td>\n",
       "      <td>-3.564309e-01</td>\n",
       "      <td>2.869576e-01</td>\n",
       "      <td>0.000000e+00</td>\n",
       "    </tr>\n",
       "    <tr>\n",
       "      <th>75%</th>\n",
       "      <td>4.913530e-01</td>\n",
       "      <td>3.747198e-01</td>\n",
       "      <td>2.942370e-01</td>\n",
       "      <td>5.942100e-02</td>\n",
       "      <td>2.816364e-01</td>\n",
       "      <td>6.515412e-01</td>\n",
       "      <td>5.926666e-01</td>\n",
       "      <td>6.175252e-01</td>\n",
       "      <td>7.042584e-01</td>\n",
       "      <td>8.608551e-01</td>\n",
       "    </tr>\n",
       "    <tr>\n",
       "      <th>max</th>\n",
       "      <td>5.266181e+00</td>\n",
       "      <td>5.813835e+00</td>\n",
       "      <td>5.611542e+00</td>\n",
       "      <td>5.036507e+00</td>\n",
       "      <td>9.129718e+00</td>\n",
       "      <td>4.047436e+00</td>\n",
       "      <td>4.221297e+00</td>\n",
       "      <td>3.009349e+00</td>\n",
       "      <td>1.380962e+00</td>\n",
       "      <td>1.721710e+00</td>\n",
       "    </tr>\n",
       "  </tbody>\n",
       "</table>\n",
       "</div>"
      ],
      "text/plain": [
       "                  0             1             2             3             4  \\\n",
       "count  1.670000e+02  1.670000e+02  1.670000e+02  1.670000e+02  1.670000e+02   \n",
       "mean   2.871954e-16  2.383323e-16 -7.512288e-17  2.127373e-17  8.376533e-17   \n",
       "std    1.003008e+00  1.003008e+00  1.003008e+00  1.003008e+00  1.003008e+00   \n",
       "min   -1.939940e+00 -1.500192e+00 -8.603259e-01 -6.968005e-01 -1.137852e+00   \n",
       "25%   -6.914785e-01 -6.333367e-01 -7.174558e-01 -6.366596e-01 -5.666409e-01   \n",
       "50%   -1.487432e-01 -2.235279e-01 -3.738080e-01 -4.544309e-01 -2.269504e-01   \n",
       "75%    4.913530e-01  3.747198e-01  2.942370e-01  5.942100e-02  2.816364e-01   \n",
       "max    5.266181e+00  5.813835e+00  5.611542e+00  5.036507e+00  9.129718e+00   \n",
       "\n",
       "                  5             6             7             8             9  \n",
       "count  1.670000e+02  1.670000e+02  1.670000e+02  1.670000e+02  1.670000e+02  \n",
       "mean   5.218713e-16 -2.659217e-17  3.124580e-16  3.616535e-16  3.589943e-17  \n",
       "std    1.003008e+00  1.003008e+00  1.003008e+00  1.003008e+00  1.003008e+00  \n",
       "min   -1.827827e+00 -8.871383e-01 -1.191250e+00 -4.337186e+00 -1.721710e+00  \n",
       "25%   -6.922106e-01 -7.466190e-01 -7.639023e-01 -5.927576e-01 -8.608551e-01  \n",
       "50%   -1.810007e-01 -4.717981e-01 -3.564309e-01  2.869576e-01  0.000000e+00  \n",
       "75%    6.515412e-01  5.926666e-01  6.175252e-01  7.042584e-01  8.608551e-01  \n",
       "max    4.047436e+00  4.221297e+00  3.009349e+00  1.380962e+00  1.721710e+00  "
      ]
     },
     "execution_count": 36,
     "metadata": {},
     "output_type": "execute_result"
    }
   ],
   "source": [
    "# standardizing the data\n",
    "from sklearn.preprocessing import StandardScaler\n",
    "scaler = StandardScaler()\n",
    "data_scaled = scaler.fit_transform(data)\n",
    "\n",
    "# statistics of scaled data\n",
    "pd.DataFrame(data_scaled).describe()"
   ]
  },
  {
   "cell_type": "code",
   "execution_count": 37,
   "metadata": {},
   "outputs": [
    {
     "data": {
      "text/plain": [
       "KMeans(n_clusters=2)"
      ]
     },
     "execution_count": 37,
     "metadata": {},
     "output_type": "execute_result"
    }
   ],
   "source": [
    "# defining the kmeans function with initialization as k-means++\n",
    "kmeans = KMeans(n_clusters=2, init='k-means++')\n",
    "\n",
    "# fitting the k means algorithm on scaled data\n",
    "kmeans.fit(data_scaled)"
   ]
  },
  {
   "cell_type": "code",
   "execution_count": 38,
   "metadata": {},
   "outputs": [
    {
     "data": {
      "text/plain": [
       "1216.561275481345"
      ]
     },
     "execution_count": 38,
     "metadata": {},
     "output_type": "execute_result"
    }
   ],
   "source": [
    "kmeans.inertia_"
   ]
  },
  {
   "cell_type": "code",
   "execution_count": 39,
   "metadata": {},
   "outputs": [
    {
     "name": "stderr",
     "output_type": "stream",
     "text": [
      "C:\\ProgramData\\Anaconda3\\lib\\site-packages\\sklearn\\cluster\\_kmeans.py:938: FutureWarning: 'n_jobs' was deprecated in version 0.23 and will be removed in 0.25.\n",
      "  warnings.warn(\"'n_jobs' was deprecated in version 0.23 and will be\"\n",
      "C:\\ProgramData\\Anaconda3\\lib\\site-packages\\sklearn\\cluster\\_kmeans.py:938: FutureWarning: 'n_jobs' was deprecated in version 0.23 and will be removed in 0.25.\n",
      "  warnings.warn(\"'n_jobs' was deprecated in version 0.23 and will be\"\n",
      "C:\\ProgramData\\Anaconda3\\lib\\site-packages\\sklearn\\cluster\\_kmeans.py:938: FutureWarning: 'n_jobs' was deprecated in version 0.23 and will be removed in 0.25.\n",
      "  warnings.warn(\"'n_jobs' was deprecated in version 0.23 and will be\"\n",
      "C:\\ProgramData\\Anaconda3\\lib\\site-packages\\sklearn\\cluster\\_kmeans.py:938: FutureWarning: 'n_jobs' was deprecated in version 0.23 and will be removed in 0.25.\n",
      "  warnings.warn(\"'n_jobs' was deprecated in version 0.23 and will be\"\n",
      "C:\\ProgramData\\Anaconda3\\lib\\site-packages\\sklearn\\cluster\\_kmeans.py:938: FutureWarning: 'n_jobs' was deprecated in version 0.23 and will be removed in 0.25.\n",
      "  warnings.warn(\"'n_jobs' was deprecated in version 0.23 and will be\"\n",
      "C:\\ProgramData\\Anaconda3\\lib\\site-packages\\sklearn\\cluster\\_kmeans.py:938: FutureWarning: 'n_jobs' was deprecated in version 0.23 and will be removed in 0.25.\n",
      "  warnings.warn(\"'n_jobs' was deprecated in version 0.23 and will be\"\n",
      "C:\\ProgramData\\Anaconda3\\lib\\site-packages\\sklearn\\cluster\\_kmeans.py:938: FutureWarning: 'n_jobs' was deprecated in version 0.23 and will be removed in 0.25.\n",
      "  warnings.warn(\"'n_jobs' was deprecated in version 0.23 and will be\"\n",
      "C:\\ProgramData\\Anaconda3\\lib\\site-packages\\sklearn\\cluster\\_kmeans.py:938: FutureWarning: 'n_jobs' was deprecated in version 0.23 and will be removed in 0.25.\n",
      "  warnings.warn(\"'n_jobs' was deprecated in version 0.23 and will be\"\n",
      "C:\\ProgramData\\Anaconda3\\lib\\site-packages\\sklearn\\cluster\\_kmeans.py:938: FutureWarning: 'n_jobs' was deprecated in version 0.23 and will be removed in 0.25.\n",
      "  warnings.warn(\"'n_jobs' was deprecated in version 0.23 and will be\"\n",
      "C:\\ProgramData\\Anaconda3\\lib\\site-packages\\sklearn\\cluster\\_kmeans.py:938: FutureWarning: 'n_jobs' was deprecated in version 0.23 and will be removed in 0.25.\n",
      "  warnings.warn(\"'n_jobs' was deprecated in version 0.23 and will be\"\n",
      "C:\\ProgramData\\Anaconda3\\lib\\site-packages\\sklearn\\cluster\\_kmeans.py:938: FutureWarning: 'n_jobs' was deprecated in version 0.23 and will be removed in 0.25.\n",
      "  warnings.warn(\"'n_jobs' was deprecated in version 0.23 and will be\"\n",
      "C:\\ProgramData\\Anaconda3\\lib\\site-packages\\sklearn\\cluster\\_kmeans.py:938: FutureWarning: 'n_jobs' was deprecated in version 0.23 and will be removed in 0.25.\n",
      "  warnings.warn(\"'n_jobs' was deprecated in version 0.23 and will be\"\n",
      "C:\\ProgramData\\Anaconda3\\lib\\site-packages\\sklearn\\cluster\\_kmeans.py:938: FutureWarning: 'n_jobs' was deprecated in version 0.23 and will be removed in 0.25.\n",
      "  warnings.warn(\"'n_jobs' was deprecated in version 0.23 and will be\"\n",
      "C:\\ProgramData\\Anaconda3\\lib\\site-packages\\sklearn\\cluster\\_kmeans.py:938: FutureWarning: 'n_jobs' was deprecated in version 0.23 and will be removed in 0.25.\n",
      "  warnings.warn(\"'n_jobs' was deprecated in version 0.23 and will be\"\n",
      "C:\\ProgramData\\Anaconda3\\lib\\site-packages\\sklearn\\cluster\\_kmeans.py:938: FutureWarning: 'n_jobs' was deprecated in version 0.23 and will be removed in 0.25.\n",
      "  warnings.warn(\"'n_jobs' was deprecated in version 0.23 and will be\"\n",
      "C:\\ProgramData\\Anaconda3\\lib\\site-packages\\sklearn\\cluster\\_kmeans.py:938: FutureWarning: 'n_jobs' was deprecated in version 0.23 and will be removed in 0.25.\n",
      "  warnings.warn(\"'n_jobs' was deprecated in version 0.23 and will be\"\n",
      "C:\\ProgramData\\Anaconda3\\lib\\site-packages\\sklearn\\cluster\\_kmeans.py:938: FutureWarning: 'n_jobs' was deprecated in version 0.23 and will be removed in 0.25.\n",
      "  warnings.warn(\"'n_jobs' was deprecated in version 0.23 and will be\"\n",
      "C:\\ProgramData\\Anaconda3\\lib\\site-packages\\sklearn\\cluster\\_kmeans.py:938: FutureWarning: 'n_jobs' was deprecated in version 0.23 and will be removed in 0.25.\n",
      "  warnings.warn(\"'n_jobs' was deprecated in version 0.23 and will be\"\n",
      "C:\\ProgramData\\Anaconda3\\lib\\site-packages\\sklearn\\cluster\\_kmeans.py:938: FutureWarning: 'n_jobs' was deprecated in version 0.23 and will be removed in 0.25.\n",
      "  warnings.warn(\"'n_jobs' was deprecated in version 0.23 and will be\"\n"
     ]
    },
    {
     "data": {
      "text/plain": [
       "Text(0, 0.5, 'Inertia')"
      ]
     },
     "execution_count": 39,
     "metadata": {},
     "output_type": "execute_result"
    },
    {
     "data": {
      "image/png": "[encoded data removed]",
      "text/plain": [
       "<Figure size 864x432 with 1 Axes>"
      ]
     },
     "metadata": {
      "needs_background": "light"
     },
     "output_type": "display_data"
    }
   ],
   "source": [
    "# fitting multiple k-means algorithms and storing the values in an empty list\n",
    "SSE = []\n",
    "for cluster in range(1,20):\n",
    "    kmeans = KMeans(n_jobs = -1, n_clusters = cluster, init='k-means++')\n",
    "    kmeans.fit(data_scaled)\n",
    "    SSE.append(kmeans.inertia_)\n",
    "\n",
    "# converting the results into a dataframe and plotting them\n",
    "frame = pd.DataFrame({'Cluster':range(1,20), 'SSE':SSE})\n",
    "plt.figure(figsize=(12,6))\n",
    "plt.plot(frame['Cluster'], frame['SSE'], marker='o')\n",
    "plt.xlabel('Number of clusters')\n",
    "plt.ylabel('Inertia')"
   ]
  },
  {
   "cell_type": "code",
   "execution_count": 40,
   "metadata": {},
   "outputs": [
    {
     "name": "stderr",
     "output_type": "stream",
     "text": [
      "C:\\ProgramData\\Anaconda3\\lib\\site-packages\\sklearn\\cluster\\_kmeans.py:938: FutureWarning: 'n_jobs' was deprecated in version 0.23 and will be removed in 0.25.\n",
      "  warnings.warn(\"'n_jobs' was deprecated in version 0.23 and will be\"\n"
     ]
    }
   ],
   "source": [
    "# k means using 5 clusters and k-means++ initialization\n",
    "kmeans = KMeans(n_jobs = -1, n_clusters = 3, init='k-means++')\n",
    "kmeans.fit(data_scaled)\n",
    "pred = kmeans.predict(data_scaled)"
   ]
  },
  {
   "cell_type": "code",
   "execution_count": 41,
   "metadata": {},
   "outputs": [
    {
     "data": {
      "text/plain": [
       "2    85\n",
       "1    47\n",
       "0    35\n",
       "Name: cluster, dtype: int64"
      ]
     },
     "execution_count": 41,
     "metadata": {},
     "output_type": "execute_result"
    }
   ],
   "source": [
    "frame = pd.DataFrame(data_scaled)\n",
    "frame['cluster'] = pred\n",
    "frame['cluster'].value_counts()"
   ]
  },
  {
   "cell_type": "code",
   "execution_count": 42,
   "metadata": {},
   "outputs": [
    {
     "name": "stdout",
     "output_type": "stream",
     "text": [
      "0      1\n",
      "1      2\n",
      "2      2\n",
      "3      1\n",
      "4      2\n",
      "      ..\n",
      "162    2\n",
      "163    2\n",
      "164    2\n",
      "165    1\n",
      "166    1\n",
      "Name: cluster, Length: 167, dtype: int32\n"
     ]
    }
   ],
   "source": [
    "print(frame['cluster'])"
   ]
  },
  {
   "cell_type": "code",
   "execution_count": 43,
   "metadata": {},
   "outputs": [],
   "source": [
    "import matplotlib.pyplot as plt"
   ]
  },
  {
   "cell_type": "code",
   "execution_count": 55,
   "metadata": {},
   "outputs": [
    {
     "data": {
      "text/plain": [
       "array([1, 2, 2, 1, 2, 2, 2, 0, 0, 2, 2, 2, 2, 2, 2, 0, 2, 1, 2, 2, 2, 1,\n",
       "       2, 0, 2, 1, 1, 2, 1, 0, 2, 1, 1, 2, 2, 2, 1, 1, 1, 2, 1, 2, 0, 0,\n",
       "       0, 2, 2, 2, 2, 1, 1, 2, 2, 0, 0, 1, 1, 2, 0, 1, 0, 2, 2, 1, 1, 2,\n",
       "       1, 2, 0, 2, 2, 2, 1, 0, 0, 0, 2, 0, 2, 2, 1, 1, 0, 2, 1, 2, 2, 1,\n",
       "       1, 2, 2, 0, 2, 1, 1, 2, 2, 1, 0, 1, 2, 2, 2, 2, 2, 2, 1, 2, 1, 2,\n",
       "       0, 0, 1, 1, 0, 2, 1, 2, 2, 2, 2, 2, 0, 0, 2, 2, 1, 2, 2, 1, 2, 2,\n",
       "       1, 0, 0, 0, 2, 1, 0, 0, 2, 2, 1, 2, 0, 0, 2, 1, 2, 1, 1, 2, 2, 2,\n",
       "       2, 1, 2, 0, 0, 0, 2, 2, 2, 2, 2, 1, 1])"
      ]
     },
     "execution_count": 55,
     "metadata": {},
     "output_type": "execute_result"
    }
   ],
   "source": [
    "pred"
   ]
  },
  {
   "cell_type": "code",
   "execution_count": 50,
   "metadata": {},
   "outputs": [],
   "source": [
    "u_labels = np.unique(pred)"
   ]
  },
  {
   "cell_type": "code",
   "execution_count": 51,
   "metadata": {},
   "outputs": [
    {
     "data": {
      "image/png": "[encoded data removed]",
      "text/plain": [
       "<Figure size 432x288 with 1 Axes>"
      ]
     },
     "metadata": {
      "needs_background": "light"
     },
     "output_type": "display_data"
    }
   ],
   "source": [
    "for i in u_labels:\n",
    "    plt.scatter(data_scaled[pred == i , 0] , data_scaled[pred == i , 1] , label = i)\n",
    "plt.legend()\n",
    "plt.show()"
   ]
  },
  {
   "cell_type": "code",
   "execution_count": null,
   "metadata": {},
   "outputs": [],
   "source": [
    "print(\"check\")"
   ]
  }
 ],
 "metadata": {
  "kernelspec": {
   "display_name": "Python 3",
   "language": "python",
   "name": "python3"
  },
  "language_info": {
   "codemirror_mode": {
    "name": "ipython",
    "version": 3
   },
   "file_extension": ".py",
   "mimetype": "text/x-python",
   "name": "python",
   "nbconvert_exporter": "python",
   "pygments_lexer": "ipython3",
   "version": "3.8.5"
  }
 },
 "nbformat": 4,
 "nbformat_minor": 4
}
